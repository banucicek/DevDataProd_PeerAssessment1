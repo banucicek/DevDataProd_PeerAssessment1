{
  "nbformat": 4,
  "nbformat_minor": 0,
  "metadata": {
    "colab": {
      "name": "Trendyol_DataScience_CS2.ipynb",
      "provenance": [],
      "authorship_tag": "ABX9TyPDGnMMaZ7QboQz3qsamDAb",
      "include_colab_link": true
    },
    "kernelspec": {
      "name": "python3",
      "display_name": "Python 3"
    }
  },
  "cells": [
    {
      "cell_type": "markdown",
      "metadata": {
        "id": "view-in-github",
        "colab_type": "text"
      },
      "source": [
        "<a href=\"https://colab.research.google.com/github/banucicek/DevDataProd_PeerAssessment1/blob/master/Trendyol_DataScience_CS2.ipynb\" target=\"_parent\"><img src=\"https://colab.research.google.com/assets/colab-badge.svg\" alt=\"Open In Colab\"/></a>"
      ]
    },
    {
      "cell_type": "markdown",
      "metadata": {
        "id": "H5ZYhefEV8J6"
      },
      "source": [
        "# Feedback from Trendyol on 20201026: \n",
        "\n",
        "*   better handling of peak events\n",
        "*   emphasis on trend and seasonality\n",
        "\n"
      ]
    },
    {
      "cell_type": "markdown",
      "metadata": {
        "id": "bunDyfJBcgT8"
      },
      "source": [
        "For performing this analysis, please use following data sources:\n",
        "\n",
        "productDailyActions.csv: \n",
        "You are expected to split this file into train and test dataset. It contains following informations for the dates between '2018-11-01' and '2019-01-12':\n",
        "- productid: unique id for each product\n",
        "- date: date of product action \n",
        "- soldquantity : sales of product\n",
        "- stock : beginning stock count of product\n",
        "- clickcount : # of clicks of product\n",
        "- favoredcount: # of favored click of product\n",
        "\n",
        "productAttributes.csv:\n",
        "This file contains product related informations belonging to each product id. The file contains following informations: productid, gender, color, categoryid, brandid, subcategoryid. \n",
        "\n",
        "Objectives:\n",
        "We are asking you to build an algorithm(s) that can forecast the sales of any  product for next day. Please prepare the presentation with your results. In it, you’ll have to justify and explain:\n",
        "\n",
        "•\tHow did you create the target variable?\n",
        "\n",
        "•\tHow did you prepare the final dataset for modeling?\n",
        "\n",
        "•\tHow did you split datasets into training and testing?\n",
        "\n",
        "•\tWhat methods did you use for modelling and why?\n",
        "\n",
        "•\tHow did you quantify the performance of your model(s)?\n",
        "\n",
        "You need to be ready to explain all the assumptions that you made.\n",
        "Together with your presentation (in PDF/Excel) you'll need to provide us with your source code written in Python/R/Spark.\n"
      ]
    },
    {
      "cell_type": "code",
      "metadata": {
        "id": "sCoAK-FebcVS",
        "colab": {
          "base_uri": "https://localhost:8080/",
          "height": 51
        },
        "outputId": "914d412f-6076-417c-cd41-c17b661a72ae"
      },
      "source": [
        "# importing necesary libraries\n",
        "import pandas as pd\n",
        "print('pandas: %s' % pd.__version__)\n",
        "import numpy as np\n",
        "print('numpy: %s' % np.__version__)\n",
        "from math import sqrt\n",
        "import matplotlib.pyplot as plt\n",
        "import datetime\n",
        "\n",
        "from sklearn import preprocessing\n",
        "from sklearn.ensemble import RandomForestRegressor\n",
        "from sklearn.svm import SVR\n",
        "from sklearn.metrics import mean_squared_error\n",
        "\n",
        "\n",
        "\n"
      ],
      "execution_count": null,
      "outputs": [
        {
          "output_type": "stream",
          "text": [
            "pandas: 1.0.5\n",
            "numpy: 1.18.5\n"
          ],
          "name": "stdout"
        }
      ]
    },
    {
      "cell_type": "code",
      "metadata": {
        "id": "65Miye8nbTvY"
      },
      "source": [
        "# Not necessary if running on local\n",
        "# File upload on colabs,\n",
        "# running_on_server = True\n",
        "# # upload the files first, if running on server\n",
        "# if running_on_server:\n",
        "#   from google.colab import files\n",
        "#   uploaded = files.upload()"
      ],
      "execution_count": null,
      "outputs": []
    },
    {
      "cell_type": "code",
      "metadata": {
        "id": "ksBzZq-UlpNQ"
      },
      "source": [
        "# read in the datasets\n",
        "product_attributes = pd.read_csv('productAttributes.csv')\n",
        "product_daily_actions = pd.read_csv('productDailyActions.csv')\n",
        "# convert date column to date type\n",
        "product_daily_actions['date'] = pd.to_datetime(product_daily_actions['date'])"
      ],
      "execution_count": null,
      "outputs": []
    },
    {
      "cell_type": "code",
      "metadata": {
        "id": "58A_D1yBzEhQ",
        "colab": {
          "base_uri": "https://localhost:8080/",
          "height": 153
        },
        "outputId": "88cea8d4-c270-45ef-ffe7-d112e841bea2"
      },
      "source": [
        "product_attributes.dtypes"
      ],
      "execution_count": null,
      "outputs": [
        {
          "output_type": "execute_result",
          "data": {
            "text/plain": [
              "productid        int64\n",
              "gender           int64\n",
              "color            int64\n",
              "categoryid       int64\n",
              "brandid          int64\n",
              "subcategoryid    int64\n",
              "price            int64\n",
              "dtype: object"
            ]
          },
          "metadata": {
            "tags": []
          },
          "execution_count": 134
        }
      ]
    },
    {
      "cell_type": "code",
      "metadata": {
        "id": "mF-jaZQGzHxU",
        "colab": {
          "base_uri": "https://localhost:8080/",
          "height": 136
        },
        "outputId": "77b6f79b-632a-462b-ad11-5444f1704cb4"
      },
      "source": [
        "product_daily_actions.dtypes"
      ],
      "execution_count": null,
      "outputs": [
        {
          "output_type": "execute_result",
          "data": {
            "text/plain": [
              "productid                int64\n",
              "date            datetime64[ns]\n",
              "soldquantity             int64\n",
              "stock                    int64\n",
              "clickcount             float64\n",
              "favoredcount           float64\n",
              "dtype: object"
            ]
          },
          "metadata": {
            "tags": []
          },
          "execution_count": 135
        }
      ]
    },
    {
      "cell_type": "code",
      "metadata": {
        "id": "UvAyjHpPzS6S",
        "colab": {
          "base_uri": "https://localhost:8080/",
          "height": 153
        },
        "outputId": "a8514a3f-8f64-4e2b-8acd-ce842b0ba4ea"
      },
      "source": [
        "product_attributes.nunique()"
      ],
      "execution_count": null,
      "outputs": [
        {
          "output_type": "execute_result",
          "data": {
            "text/plain": [
              "productid        19359\n",
              "gender               3\n",
              "color             2243\n",
              "categoryid         101\n",
              "brandid            868\n",
              "subcategoryid      103\n",
              "price             1950\n",
              "dtype: int64"
            ]
          },
          "metadata": {
            "tags": []
          },
          "execution_count": 136
        }
      ]
    },
    {
      "cell_type": "code",
      "metadata": {
        "id": "bzmHwQGQqKoU",
        "colab": {
          "base_uri": "https://localhost:8080/",
          "height": 34
        },
        "outputId": "46afb163-ba78-4afe-c894-03098cf79548"
      },
      "source": [
        "product_attributes.shape"
      ],
      "execution_count": null,
      "outputs": [
        {
          "output_type": "execute_result",
          "data": {
            "text/plain": [
              "(19359, 7)"
            ]
          },
          "metadata": {
            "tags": []
          },
          "execution_count": 137
        }
      ]
    },
    {
      "cell_type": "code",
      "metadata": {
        "id": "-GypDmaHjzuG",
        "colab": {
          "base_uri": "https://localhost:8080/",
          "height": 34
        },
        "outputId": "dac1dda0-39a6-4565-e09e-29f8138eafce"
      },
      "source": [
        "product_daily_actions.shape"
      ],
      "execution_count": null,
      "outputs": [
        {
          "output_type": "execute_result",
          "data": {
            "text/plain": [
              "(858935, 6)"
            ]
          },
          "metadata": {
            "tags": []
          },
          "execution_count": 138
        }
      ]
    },
    {
      "cell_type": "code",
      "metadata": {
        "id": "Fud6ion3puZr",
        "colab": {
          "base_uri": "https://localhost:8080/",
          "height": 204
        },
        "outputId": "84b4adfd-3d12-47cf-d649-1dfb75a06279"
      },
      "source": [
        "product_attributes.head()"
      ],
      "execution_count": null,
      "outputs": [
        {
          "output_type": "execute_result",
          "data": {
            "text/html": [
              "<div>\n",
              "<style scoped>\n",
              "    .dataframe tbody tr th:only-of-type {\n",
              "        vertical-align: middle;\n",
              "    }\n",
              "\n",
              "    .dataframe tbody tr th {\n",
              "        vertical-align: top;\n",
              "    }\n",
              "\n",
              "    .dataframe thead th {\n",
              "        text-align: right;\n",
              "    }\n",
              "</style>\n",
              "<table border=\"1\" class=\"dataframe\">\n",
              "  <thead>\n",
              "    <tr style=\"text-align: right;\">\n",
              "      <th></th>\n",
              "      <th>productid</th>\n",
              "      <th>gender</th>\n",
              "      <th>color</th>\n",
              "      <th>categoryid</th>\n",
              "      <th>brandid</th>\n",
              "      <th>subcategoryid</th>\n",
              "      <th>price</th>\n",
              "    </tr>\n",
              "  </thead>\n",
              "  <tbody>\n",
              "    <tr>\n",
              "      <th>0</th>\n",
              "      <td>81</td>\n",
              "      <td>2</td>\n",
              "      <td>4893</td>\n",
              "      <td>407</td>\n",
              "      <td>390</td>\n",
              "      <td>20</td>\n",
              "      <td>2114</td>\n",
              "    </tr>\n",
              "    <tr>\n",
              "      <th>1</th>\n",
              "      <td>121</td>\n",
              "      <td>1</td>\n",
              "      <td>1684</td>\n",
              "      <td>411</td>\n",
              "      <td>390</td>\n",
              "      <td>23</td>\n",
              "      <td>1851</td>\n",
              "    </tr>\n",
              "    <tr>\n",
              "      <th>2</th>\n",
              "      <td>141</td>\n",
              "      <td>2</td>\n",
              "      <td>5414</td>\n",
              "      <td>434</td>\n",
              "      <td>390</td>\n",
              "      <td>56</td>\n",
              "      <td>2236</td>\n",
              "    </tr>\n",
              "    <tr>\n",
              "      <th>3</th>\n",
              "      <td>161</td>\n",
              "      <td>2</td>\n",
              "      <td>3500</td>\n",
              "      <td>411</td>\n",
              "      <td>390</td>\n",
              "      <td>23</td>\n",
              "      <td>1851</td>\n",
              "    </tr>\n",
              "    <tr>\n",
              "      <th>4</th>\n",
              "      <td>181</td>\n",
              "      <td>2</td>\n",
              "      <td>6784</td>\n",
              "      <td>1825</td>\n",
              "      <td>390</td>\n",
              "      <td>68</td>\n",
              "      <td>1421</td>\n",
              "    </tr>\n",
              "  </tbody>\n",
              "</table>\n",
              "</div>"
            ],
            "text/plain": [
              "   productid  gender  color  categoryid  brandid  subcategoryid  price\n",
              "0         81       2   4893         407      390             20   2114\n",
              "1        121       1   1684         411      390             23   1851\n",
              "2        141       2   5414         434      390             56   2236\n",
              "3        161       2   3500         411      390             23   1851\n",
              "4        181       2   6784        1825      390             68   1421"
            ]
          },
          "metadata": {
            "tags": []
          },
          "execution_count": 139
        }
      ]
    },
    {
      "cell_type": "code",
      "metadata": {
        "id": "SmziMyhRckuC",
        "colab": {
          "base_uri": "https://localhost:8080/",
          "height": 204
        },
        "outputId": "c4f0c7f8-5e91-430b-a8fb-361ae66908c9"
      },
      "source": [
        "product_daily_actions.head()"
      ],
      "execution_count": null,
      "outputs": [
        {
          "output_type": "execute_result",
          "data": {
            "text/html": [
              "<div>\n",
              "<style scoped>\n",
              "    .dataframe tbody tr th:only-of-type {\n",
              "        vertical-align: middle;\n",
              "    }\n",
              "\n",
              "    .dataframe tbody tr th {\n",
              "        vertical-align: top;\n",
              "    }\n",
              "\n",
              "    .dataframe thead th {\n",
              "        text-align: right;\n",
              "    }\n",
              "</style>\n",
              "<table border=\"1\" class=\"dataframe\">\n",
              "  <thead>\n",
              "    <tr style=\"text-align: right;\">\n",
              "      <th></th>\n",
              "      <th>productid</th>\n",
              "      <th>date</th>\n",
              "      <th>soldquantity</th>\n",
              "      <th>stock</th>\n",
              "      <th>clickcount</th>\n",
              "      <th>favoredcount</th>\n",
              "    </tr>\n",
              "  </thead>\n",
              "  <tbody>\n",
              "    <tr>\n",
              "      <th>0</th>\n",
              "      <td>1</td>\n",
              "      <td>2018-11-23</td>\n",
              "      <td>0</td>\n",
              "      <td>140</td>\n",
              "      <td>82.0</td>\n",
              "      <td>NaN</td>\n",
              "    </tr>\n",
              "    <tr>\n",
              "      <th>1</th>\n",
              "      <td>21</td>\n",
              "      <td>2018-11-30</td>\n",
              "      <td>0</td>\n",
              "      <td>3</td>\n",
              "      <td>11.0</td>\n",
              "      <td>NaN</td>\n",
              "    </tr>\n",
              "    <tr>\n",
              "      <th>2</th>\n",
              "      <td>21</td>\n",
              "      <td>2018-12-27</td>\n",
              "      <td>0</td>\n",
              "      <td>2</td>\n",
              "      <td>2.0</td>\n",
              "      <td>NaN</td>\n",
              "    </tr>\n",
              "    <tr>\n",
              "      <th>3</th>\n",
              "      <td>21</td>\n",
              "      <td>2019-01-09</td>\n",
              "      <td>0</td>\n",
              "      <td>2</td>\n",
              "      <td>2.0</td>\n",
              "      <td>1.0</td>\n",
              "    </tr>\n",
              "    <tr>\n",
              "      <th>4</th>\n",
              "      <td>21</td>\n",
              "      <td>2018-12-18</td>\n",
              "      <td>0</td>\n",
              "      <td>2</td>\n",
              "      <td>5.0</td>\n",
              "      <td>NaN</td>\n",
              "    </tr>\n",
              "  </tbody>\n",
              "</table>\n",
              "</div>"
            ],
            "text/plain": [
              "   productid       date  soldquantity  stock  clickcount  favoredcount\n",
              "0          1 2018-11-23             0    140        82.0           NaN\n",
              "1         21 2018-11-30             0      3        11.0           NaN\n",
              "2         21 2018-12-27             0      2         2.0           NaN\n",
              "3         21 2019-01-09             0      2         2.0           1.0\n",
              "4         21 2018-12-18             0      2         5.0           NaN"
            ]
          },
          "metadata": {
            "tags": []
          },
          "execution_count": 140
        }
      ]
    },
    {
      "cell_type": "code",
      "metadata": {
        "id": "WBISSgkaqUB_"
      },
      "source": [
        "# check if products are unique\n",
        "assert len(product_attributes['productid'].unique()) == product_attributes.shape[0]"
      ],
      "execution_count": null,
      "outputs": []
    },
    {
      "cell_type": "code",
      "metadata": {
        "id": "BTDYfbVzq_ZY"
      },
      "source": [
        "# check if there are any missing values in the table\n",
        "assert product_attributes.isna().any(axis=1).sum() == 0"
      ],
      "execution_count": null,
      "outputs": []
    },
    {
      "cell_type": "code",
      "metadata": {
        "id": "4RvbButHsifd"
      },
      "source": [
        "# check if product ids in two datasets correspond\n",
        "assert set(product_daily_actions['productid'].unique()) == set(product_attributes['productid'].unique())"
      ],
      "execution_count": null,
      "outputs": []
    },
    {
      "cell_type": "code",
      "metadata": {
        "id": "KJp2B45NyEg-"
      },
      "source": [
        "# check if there are any duplicates of <productid, date> pair\n",
        "assert product_daily_actions[['productid', 'date']].duplicated().any() == False"
      ],
      "execution_count": null,
      "outputs": []
    },
    {
      "cell_type": "code",
      "metadata": {
        "id": "V4EWkYcktNtJ",
        "colab": {
          "base_uri": "https://localhost:8080/",
          "height": 315
        },
        "outputId": "0732a439-41bc-4dea-f14f-2b3c3cc13fd5"
      },
      "source": [
        "# Number of days that the product has entry in daily actions tale\n",
        "per_product_id = product_daily_actions.groupby('productid')[['date']].count().sort_values(by='date').rename(columns={'date': 'day_count'})\n",
        "per_product_id.hist(bins=per_product_id['day_count'].max())"
      ],
      "execution_count": null,
      "outputs": [
        {
          "output_type": "execute_result",
          "data": {
            "text/plain": [
              "array([[<matplotlib.axes._subplots.AxesSubplot object at 0x7fd1fbce41d0>]],\n",
              "      dtype=object)"
            ]
          },
          "metadata": {
            "tags": []
          },
          "execution_count": 145
        },
        {
          "output_type": "display_data",
          "data": {
            "image/png": "[encoded data removed]",
            "text/plain": [
              "<Figure size 432x288 with 1 Axes>"
            ]
          },
          "metadata": {
            "tags": [],
            "needs_background": "light"
          }
        }
      ]
    },
    {
      "cell_type": "code",
      "metadata": {
        "id": "OrDl1JUbx0fi",
        "colab": {
          "base_uri": "https://localhost:8080/",
          "height": 204
        },
        "outputId": "cb2a988d-f602-4796-b9ab-fc39591197fa"
      },
      "source": [
        "# Date gaps\n",
        "date_gap_check_df = product_daily_actions[['productid', 'date']].sort_values(by=['productid', 'date'])\n",
        "date_gap_check_df['deltas'] = date_gap_check_df['date'].diff()[1:]\n",
        "date_gap_check_df.sort_values(['deltas'], ascending=False).head()"
      ],
      "execution_count": null,
      "outputs": [
        {
          "output_type": "execute_result",
          "data": {
            "text/html": [
              "<div>\n",
              "<style scoped>\n",
              "    .dataframe tbody tr th:only-of-type {\n",
              "        vertical-align: middle;\n",
              "    }\n",
              "\n",
              "    .dataframe tbody tr th {\n",
              "        vertical-align: top;\n",
              "    }\n",
              "\n",
              "    .dataframe thead th {\n",
              "        text-align: right;\n",
              "    }\n",
              "</style>\n",
              "<table border=\"1\" class=\"dataframe\">\n",
              "  <thead>\n",
              "    <tr style=\"text-align: right;\">\n",
              "      <th></th>\n",
              "      <th>productid</th>\n",
              "      <th>date</th>\n",
              "      <th>deltas</th>\n",
              "    </tr>\n",
              "  </thead>\n",
              "  <tbody>\n",
              "    <tr>\n",
              "      <th>497365</th>\n",
              "      <td>78171</td>\n",
              "      <td>2019-01-11</td>\n",
              "      <td>70 days</td>\n",
              "    </tr>\n",
              "    <tr>\n",
              "      <th>507713</th>\n",
              "      <td>147191</td>\n",
              "      <td>2019-01-09</td>\n",
              "      <td>65 days</td>\n",
              "    </tr>\n",
              "    <tr>\n",
              "      <th>275570</th>\n",
              "      <td>82421</td>\n",
              "      <td>2019-01-04</td>\n",
              "      <td>64 days</td>\n",
              "    </tr>\n",
              "    <tr>\n",
              "      <th>326496</th>\n",
              "      <td>99421</td>\n",
              "      <td>2019-01-11</td>\n",
              "      <td>63 days</td>\n",
              "    </tr>\n",
              "    <tr>\n",
              "      <th>171308</th>\n",
              "      <td>56911</td>\n",
              "      <td>2019-01-05</td>\n",
              "      <td>63 days</td>\n",
              "    </tr>\n",
              "  </tbody>\n",
              "</table>\n",
              "</div>"
            ],
            "text/plain": [
              "        productid       date  deltas\n",
              "497365      78171 2019-01-11 70 days\n",
              "507713     147191 2019-01-09 65 days\n",
              "275570      82421 2019-01-04 64 days\n",
              "326496      99421 2019-01-11 63 days\n",
              "171308      56911 2019-01-05 63 days"
            ]
          },
          "metadata": {
            "tags": []
          },
          "execution_count": 146
        }
      ]
    },
    {
      "cell_type": "code",
      "metadata": {
        "id": "-3O4uiN7uzgp",
        "colab": {
          "base_uri": "https://localhost:8080/",
          "height": 136
        },
        "outputId": "4390e97d-3c63-4a94-96f2-810d91ad4666"
      },
      "source": [
        "# identify columns with missing values\n",
        "product_daily_actions.isna().any()"
      ],
      "execution_count": null,
      "outputs": [
        {
          "output_type": "execute_result",
          "data": {
            "text/plain": [
              "productid       False\n",
              "date            False\n",
              "soldquantity    False\n",
              "stock           False\n",
              "clickcount       True\n",
              "favoredcount     True\n",
              "dtype: bool"
            ]
          },
          "metadata": {
            "tags": []
          },
          "execution_count": 147
        }
      ]
    },
    {
      "cell_type": "code",
      "metadata": {
        "id": "uGV8moW5vDUV"
      },
      "source": [
        "# chosen imputation method: fill with zero, since it makes sense to treat the missing count values as zero count\n",
        "product_daily_actions.fillna(0, inplace=True)"
      ],
      "execution_count": null,
      "outputs": []
    },
    {
      "cell_type": "code",
      "metadata": {
        "id": "IQZFHnNRMyrd"
      },
      "source": [
        "def extract_attribute_features(merged_df, groupby_attributes, pred_date):\n",
        "  # summarize daily actions according to product's attributes we are interested in \n",
        "  merged_df['sold_any'] = merged_df['soldquantity'].astype(bool)\n",
        "\n",
        "  # the_attributes = product_attributes.loc[product_attributes['productid']==product_id][list_of_attributes]\n",
        "  output_df = merged_df[groupby_attributes].drop_duplicates()\n",
        "\n",
        "  # for all history\n",
        "  # total number of days that there products for list_of_attributes were sold\n",
        "  # total number of sales for list_of_attributes\n",
        "  # average number of sales for list_of_attributes\n",
        "  # maximum number of sales for list_of_attributes\n",
        "  aggregated_df = merged_df.groupby(groupby_attributes).agg(\n",
        "                           {\n",
        "                               'sold_any': 'sum',\n",
        "                               'soldquantity': ['sum', 'mean', 'max']\n",
        "                               })\n",
        "  # name columns accordingly\n",
        "  aggregated_df.columns = aggregated_df.columns.map('_'.join)\n",
        "  groupby_attr_as_string = '_'.join(groupby_attributes)\n",
        "  aggregated_df.columns = [n + '_' + groupby_attr_as_string for n in aggregated_df.columns]\n",
        "\n",
        "  output_df = pd.merge(output_df, \n",
        "                       aggregated_df.reset_index(),\n",
        "                       on=groupby_attributes,\n",
        "                       how='left')\n",
        "  \n",
        "  # TODO: for the last week\n",
        "  # TODO: for the day of week\n",
        "  return output_df\n"
      ],
      "execution_count": null,
      "outputs": []
    },
    {
      "cell_type": "code",
      "metadata": {
        "id": "ewli_aoI9LkM"
      },
      "source": [
        "def prepare_dateset(product_attributes, product_daily_actions, pred_date=datetime.datetime.today()):\n",
        "  # prepares the input dataframe for all the products in the first dataframe, for the given prediction_date\n",
        "\n",
        "  # filter in only the data which is prior to the prediction date\n",
        "  historic_daily_actions = product_daily_actions.loc[product_daily_actions['date']<pred_date]\n",
        "\n",
        "  # initiate product-based model input data frame\n",
        "  df = product_attributes\n",
        "\n",
        "  # daily actions summarization according to diffrent combinations of product attributes\n",
        "  # merge product attributes to daily actions data\n",
        "  merged_df = pd.merge(historic_daily_actions, product_attributes, how='left', on='productid')\n",
        "  # as an example I chose [brandid, gender]\n",
        "  brandid_gender_features = extract_attribute_features(merged_df=merged_df, \n",
        "                                                       groupby_attributes=['brandid', 'gender'],\n",
        "                                                       pred_date=pred_date)\n",
        "  # merge summary features to our model input data frame\n",
        "  df = pd.merge(df, brandid_gender_features, on=['brandid', 'gender'], how='left')\n",
        "\n",
        "  # get the date of t-1\n",
        "  t_1 = pred_date + datetime.timedelta(days=-1)\n",
        "\n",
        "  for i in df.index: # for each product\n",
        "    # get the historic daily actions data belonging to the product\n",
        "    historic_daily_actions_for_product = historic_daily_actions.loc[historic_daily_actions['productid']==i]\n",
        "    # get the last date tha the product had daily actions data entry\n",
        "    last_date_for_product = historic_daily_actions_for_product['date'].max()\n",
        "    try:\n",
        "      # get the last daily actions entry for the product\n",
        "      last_entry = historic_daily_actions_for_product.loc[historic_daily_actions_for_product['date']==last_date_for_product]\n",
        "      # extract feature: number of days passed since the last entry\n",
        "      df.loc[i, 'day_passed_since_last_record'] = (pred_date - last_date_for_product).days\n",
        "      # extract feature: last observed stock count prior to prediction date\n",
        "      df.loc[i, 'stock'] = last_entry['stock'].values\n",
        "    except:\n",
        "      # if no historic entry for product, fill with the representative of the missing value\n",
        "      df.loc[i, 'day_passed_since_last_record'] = -1\n",
        "      df.loc[i, 'stock'] = 0\n",
        "    if df.loc[i, 'day_passed_since_last_record'] ==1: # if the product had daily actions entry for the previous day\n",
        "      # get the daily actions entry for the product for the day before the prediction date\n",
        "      t_1_entry = historic_daily_actions_for_product.loc[historic_daily_actions_for_product['date']==t_1]\n",
        "      # extract feature: previous day's sold quantity\n",
        "      df.loc[i, 'sold_quantity_t_1'] = t_1_entry['soldquantity'].values\n",
        "      # extract feature: previous day's click count\n",
        "      df.loc[i, 'click_count_t_1'] = t_1_entry['clickcount'].values\n",
        "      # extract feature: previous day's favored count\n",
        "      df.loc[i, 'favored_count_t_1'] = t_1_entry['favoredcount'].values\n",
        "    else: # if no entry for the previous day\n",
        "      df.loc[i, 'sold_quantity_t_1'] = 0\n",
        "      df.loc[i, 'click_count_t_1'] = 0\n",
        "      df.loc[i, 'favored_count_t_1'] = 0\n",
        "    \n",
        "    # determine the target variable for model training for the given prediction day\n",
        "    try:\n",
        "      target_entry = product_daily_actions.loc[(product_daily_actions['productid']==i) & \n",
        "                                               (product_daily_actions['date']==pred_date)]\n",
        "      df.loc[i, 'sold_quantity'] = target_entry['soldquantity'].values\n",
        "    except:\n",
        "      df.loc[i, 'sold_quantity'] = 0\n",
        "\n",
        "  # drop raw attributes columns, as they are numeric representation of categorical values except for price\n",
        "  columns_to_drop = product_attributes.columns.to_list()\n",
        "  columns_to_drop.remove('price')\n",
        "  columns_to_drop.remove('productid') \n",
        "  df = df.loc[:, [c for c in df.columns if not c in columns_to_drop]]\n",
        "\n",
        "  return df.set_index('productid')"
      ],
      "execution_count": null,
      "outputs": []
    },
    {
      "cell_type": "code",
      "metadata": {
        "id": "VXAkjT8kkSJ4"
      },
      "source": [
        "def train_predict_evaluate(product_attributes, product_daily_actions, pred_date):\n",
        "  # get the date of t-1\n",
        "  t_1 = pred_date + datetime.timedelta(days=-1)\n",
        "\n",
        "  # get training and test datasets\n",
        "  training_df = prepare_dateset(product_attributes, product_daily_actions, pred_date=t_1)\n",
        "  test_df = prepare_dateset(product_attributes, product_daily_actions, pred_date=pred_date)\n",
        "\n",
        "  # split model input and output\n",
        "  training_X = training_df.loc[:,training_df.columns != 'sold_quantity']\n",
        "  training_X.fillna(0, inplace=True)\n",
        "  training_y = training_df.loc[:,training_df.columns == 'sold_quantity']\n",
        "\n",
        "  test_X = test_df.loc[:,test_df.columns != 'sold_quantity']\n",
        "  test_X.fillna(0, inplace=True)\n",
        "  test_y = test_df.loc[:,test_df.columns == 'sold_quantity']\n",
        "\n",
        "  # scaling for SVR\n",
        "  mm_scaler = preprocessing.MinMaxScaler()\n",
        "  training_X_scaled = mm_scaler.fit_transform(training_X)\n",
        "  test_X_scaled = mm_scaler.transform(test_X)\n",
        "\n",
        "  # various models to try, with some hyperparameter tuning\n",
        "  models = {'SVR1000_02': SVR(kernel='rbf', C=1000, gamma=0.2, epsilon=.1),\n",
        "            'SVR100_01': SVR(kernel='rbf', C=100, gamma=0.1, epsilon=.1),\n",
        "            'RFR6': RandomForestRegressor(n_estimators=6, random_state=0),\n",
        "            'RFR10': RandomForestRegressor(n_estimators=10, random_state=0)}\n",
        "  model_performances = []\n",
        "  for key, m in models.items():\n",
        "    if 'SVR' in key: # if SVR, use scaled input\n",
        "      training_X = training_X_scaled\n",
        "      test_X = test_X_scaled\n",
        "\n",
        "    m_fit = m.fit(training_X, training_y.values.ravel()) \n",
        "    training_y_pred = m_fit.predict(training_X)\n",
        "    test_y_pred = m_fit.predict(test_X)\n",
        "\n",
        "    training_rmse = mean_squared_error(training_y, training_y_pred)\n",
        "    test_rmse = mean_squared_error(test_y, test_y_pred)\n",
        "    model_performances.append([key, training_rmse, test_rmse])\n",
        "  return model_performances\n",
        "    "
      ],
      "execution_count": null,
      "outputs": []
    },
    {
      "cell_type": "code",
      "metadata": {
        "id": "DNqNWAJH9jtq"
      },
      "source": [
        "def shifting_window_evaluation(product_attributes, product_daily_actions, pred_dates):\n",
        "  model_performances = pd.DataFrame()\n",
        "  for pred_date in pred_dates:\n",
        "    print(pred_date)\n",
        "    mp = train_predict_evaluate(product_attributes, product_daily_actions, pred_date)\n",
        "    mp_df = pd.DataFrame(mp, columns=['model', 'train_rmse', 'test_rmse'])\n",
        "    mp_df['pred_date'] = pred_date\n",
        "    model_performances = pd.concat([model_performances, mp_df])\n",
        "    model_performances.append([pred_date].append(mp))\n",
        "  return model_performances[['pred_date', 'model', 'train_rmse', 'test_rmse']]"
      ],
      "execution_count": null,
      "outputs": []
    },
    {
      "cell_type": "code",
      "metadata": {
        "id": "SgvYGwiHpUiC"
      },
      "source": [
        "# date arrangement for shifting windows evaluation\n",
        "historic_data_end_date = product_daily_actions['date'].max()\n",
        "prediction_date = historic_data_end_date + datetime.timedelta(days=1)\n",
        "shifting_window_start_date = historic_data_end_date + datetime.timedelta(days=-3)\n",
        "shifting_window_end_date = historic_data_end_date\n",
        "\n",
        "evaluation_dates = pd.date_range(start=shifting_window_start_date,\n",
        "                            end=shifting_window_end_date,\n",
        "                            freq='D')"
      ],
      "execution_count": null,
      "outputs": []
    },
    {
      "cell_type": "code",
      "metadata": {
        "id": "mnEIUbSuvixj",
        "colab": {
          "base_uri": "https://localhost:8080/",
          "height": 445
        },
        "outputId": "95fad559-bc61-4b95-8962-106a4dce6e56"
      },
      "source": [
        "# shifting windows evaluation\n",
        "performances = shifting_window_evaluation(product_attributes, product_daily_actions, evaluation_dates)\n"
      ],
      "execution_count": null,
      "outputs": [
        {
          "output_type": "stream",
          "text": [
            "2019-01-08 00:00:00\n"
          ],
          "name": "stdout"
        },
        {
          "output_type": "stream",
          "text": [
            "/usr/local/lib/python3.6/dist-packages/pandas/core/frame.py:4153: SettingWithCopyWarning: \n",
            "A value is trying to be set on a copy of a slice from a DataFrame\n",
            "\n",
            "See the caveats in the documentation: https://pandas.pydata.org/pandas-docs/stable/user_guide/indexing.html#returning-a-view-versus-a-copy\n",
            "  downcast=downcast,\n"
          ],
          "name": "stderr"
        },
        {
          "output_type": "stream",
          "text": [
            "2019-01-09 00:00:00\n"
          ],
          "name": "stdout"
        },
        {
          "output_type": "stream",
          "text": [
            "/usr/local/lib/python3.6/dist-packages/pandas/core/frame.py:4153: SettingWithCopyWarning: \n",
            "A value is trying to be set on a copy of a slice from a DataFrame\n",
            "\n",
            "See the caveats in the documentation: https://pandas.pydata.org/pandas-docs/stable/user_guide/indexing.html#returning-a-view-versus-a-copy\n",
            "  downcast=downcast,\n"
          ],
          "name": "stderr"
        },
        {
          "output_type": "stream",
          "text": [
            "2019-01-10 00:00:00\n"
          ],
          "name": "stdout"
        },
        {
          "output_type": "stream",
          "text": [
            "/usr/local/lib/python3.6/dist-packages/pandas/core/frame.py:4153: SettingWithCopyWarning: \n",
            "A value is trying to be set on a copy of a slice from a DataFrame\n",
            "\n",
            "See the caveats in the documentation: https://pandas.pydata.org/pandas-docs/stable/user_guide/indexing.html#returning-a-view-versus-a-copy\n",
            "  downcast=downcast,\n"
          ],
          "name": "stderr"
        },
        {
          "output_type": "stream",
          "text": [
            "2019-01-11 00:00:00\n"
          ],
          "name": "stdout"
        },
        {
          "output_type": "stream",
          "text": [
            "/usr/local/lib/python3.6/dist-packages/pandas/core/frame.py:4153: SettingWithCopyWarning: \n",
            "A value is trying to be set on a copy of a slice from a DataFrame\n",
            "\n",
            "See the caveats in the documentation: https://pandas.pydata.org/pandas-docs/stable/user_guide/indexing.html#returning-a-view-versus-a-copy\n",
            "  downcast=downcast,\n"
          ],
          "name": "stderr"
        }
      ]
    },
    {
      "cell_type": "code",
      "metadata": {
        "id": "ffW12z9uq7RR",
        "colab": {
          "base_uri": "https://localhost:8080/",
          "height": 204
        },
        "outputId": "b526a5ff-9273-43f4-f241-81400ffadf23"
      },
      "source": [
        "# performances table for shifting windows evaluation\n",
        "performances.groupby(['model']).mean().sort_values('test_rmse')"
      ],
      "execution_count": null,
      "outputs": [
        {
          "output_type": "execute_result",
          "data": {
            "text/html": [
              "<div>\n",
              "<style scoped>\n",
              "    .dataframe tbody tr th:only-of-type {\n",
              "        vertical-align: middle;\n",
              "    }\n",
              "\n",
              "    .dataframe tbody tr th {\n",
              "        vertical-align: top;\n",
              "    }\n",
              "\n",
              "    .dataframe thead th {\n",
              "        text-align: right;\n",
              "    }\n",
              "</style>\n",
              "<table border=\"1\" class=\"dataframe\">\n",
              "  <thead>\n",
              "    <tr style=\"text-align: right;\">\n",
              "      <th></th>\n",
              "      <th>train_rmse</th>\n",
              "      <th>test_rmse</th>\n",
              "    </tr>\n",
              "    <tr>\n",
              "      <th>model</th>\n",
              "      <th></th>\n",
              "      <th></th>\n",
              "    </tr>\n",
              "  </thead>\n",
              "  <tbody>\n",
              "    <tr>\n",
              "      <th>RFR10</th>\n",
              "      <td>0.005150</td>\n",
              "      <td>0.027346</td>\n",
              "    </tr>\n",
              "    <tr>\n",
              "      <th>RFR6</th>\n",
              "      <td>0.006140</td>\n",
              "      <td>0.028084</td>\n",
              "    </tr>\n",
              "    <tr>\n",
              "      <th>SVR100_01</th>\n",
              "      <td>0.027629</td>\n",
              "      <td>0.030003</td>\n",
              "    </tr>\n",
              "    <tr>\n",
              "      <th>SVR1000_02</th>\n",
              "      <td>0.028217</td>\n",
              "      <td>0.033713</td>\n",
              "    </tr>\n",
              "  </tbody>\n",
              "</table>\n",
              "</div>"
            ],
            "text/plain": [
              "            train_rmse  test_rmse\n",
              "model                            \n",
              "RFR10         0.005150   0.027346\n",
              "RFR6          0.006140   0.028084\n",
              "SVR100_01     0.027629   0.030003\n",
              "SVR1000_02    0.028217   0.033713"
            ]
          },
          "metadata": {
            "tags": []
          },
          "execution_count": 155
        }
      ]
    },
    {
      "cell_type": "code",
      "metadata": {
        "id": "g-h8DScUurE-",
        "colab": {
          "base_uri": "https://localhost:8080/",
          "height": 122
        },
        "outputId": "7f3230c9-758e-4f8f-83af-e96c41b51418"
      },
      "source": [
        "# OUTPUT: predictions for '2019-01-12 with the chosen model\n",
        "pred_date = datetime.datetime(2019,1,12)\n",
        "\n",
        "# get the date of t-1\n",
        "t_1 = pred_date + datetime.timedelta(days=-1)\n",
        "\n",
        "# get training and test datasets\n",
        "training_df = prepare_dateset(product_attributes, product_daily_actions, pred_date=t_1)\n",
        "\n",
        "# split model input and output\n",
        "training_X = training_df.loc[:,training_df.columns != 'sold_quantity']\n",
        "training_X.fillna(0, inplace=True)\n",
        "training_y = training_df.loc[:,training_df.columns == 'sold_quantity']\n",
        "\n",
        "# scaling\n",
        "mm_scaler = preprocessing.MinMaxScaler()\n",
        "training_X_scaled = mm_scaler.fit_transform(training_X)\n",
        "\n",
        "# various models to try, with some hyperparameter tuning\n",
        "models = {'SVR1000_02': SVR(kernel='rbf', C=1000, gamma=0.2, epsilon=.1),\n",
        "          'SVR100_01': SVR(kernel='rbf', C=100, gamma=0.1, epsilon=.1),\n",
        "          'RFR6': RandomForestRegressor(n_estimators=6, random_state=0),\n",
        "          'RFR10': RandomForestRegressor(n_estimators=10, random_state=0)}\n",
        "\n",
        "# choose the best model\n",
        "model_name = performances.groupby(['model']).mean().sort_values('test_rmse').iloc[0].name\n",
        "m = models.get(model_name)\n",
        "\n",
        "if 'SVR' in model_name: # if SVR, use scaled input\n",
        "      training_X = training_X_scaled\n",
        "      test_X = test_X_scaled\n",
        "\n",
        "m_fit = m.fit(training_X, training_y.values.ravel()) \n",
        "training_y_pred = m_fit.predict(training_X)\n",
        "\n",
        "training_rmse = mean_squared_error(training_y, training_y_pred)\n"
      ],
      "execution_count": null,
      "outputs": [
        {
          "output_type": "stream",
          "text": [
            "/usr/local/lib/python3.6/dist-packages/pandas/core/frame.py:4153: SettingWithCopyWarning: \n",
            "A value is trying to be set on a copy of a slice from a DataFrame\n",
            "\n",
            "See the caveats in the documentation: https://pandas.pydata.org/pandas-docs/stable/user_guide/indexing.html#returning-a-view-versus-a-copy\n",
            "  downcast=downcast,\n"
          ],
          "name": "stderr"
        }
      ]
    },
    {
      "cell_type": "code",
      "metadata": {
        "id": "igXcaQMgML9D",
        "colab": {
          "base_uri": "https://localhost:8080/",
          "height": 68
        },
        "outputId": "3abfe858-a417-405d-f00a-ff19dc3ae8c9"
      },
      "source": [
        "\n",
        "# save the predictions\n",
        "predictions = pd.DataFrame(data=training_y_pred, index=training_X.index, columns=[pred_date.strftime('%Y-%m-%d')])\n",
        "output_file = pred_date.strftime('%Y-%m-%d') + '_predictions.csv'\n",
        "predictions.to_csv(output_file, index=True)\n",
        "\n",
        "print('Predictions for: ' + pred_date.strftime('%Y-%m-%d') + \n",
        "      '\\nwith the training RMSE of: ' + str(training_rmse) + \n",
        "      '\\nis saved to file: ' + output_file)"
      ],
      "execution_count": null,
      "outputs": [
        {
          "output_type": "stream",
          "text": [
            "Predictions for: 2019-01-12\n",
            "with the training RMSE of: 0.002257864559119789\n",
            "is saved to file: 2019-01-12_predictions.csv\n"
          ],
          "name": "stdout"
        }
      ]
    },
    {
      "cell_type": "code",
      "metadata": {
        "id": "QJ69rNvMYCRU",
        "colab": {
          "base_uri": "https://localhost:8080/",
          "height": 450
        },
        "outputId": "40c651a9-4c8d-4524-89c8-90df48add164"
      },
      "source": [
        "predictions.sort_values(predictions.columns[0], ascending=False)"
      ],
      "execution_count": null,
      "outputs": [
        {
          "output_type": "execute_result",
          "data": {
            "text/html": [
              "<div>\n",
              "<style scoped>\n",
              "    .dataframe tbody tr th:only-of-type {\n",
              "        vertical-align: middle;\n",
              "    }\n",
              "\n",
              "    .dataframe tbody tr th {\n",
              "        vertical-align: top;\n",
              "    }\n",
              "\n",
              "    .dataframe thead th {\n",
              "        text-align: right;\n",
              "    }\n",
              "</style>\n",
              "<table border=\"1\" class=\"dataframe\">\n",
              "  <thead>\n",
              "    <tr style=\"text-align: right;\">\n",
              "      <th></th>\n",
              "      <th>2019-01-12</th>\n",
              "    </tr>\n",
              "    <tr>\n",
              "      <th>productid</th>\n",
              "      <th></th>\n",
              "    </tr>\n",
              "  </thead>\n",
              "  <tbody>\n",
              "    <tr>\n",
              "      <th>88701</th>\n",
              "      <td>5.4</td>\n",
              "    </tr>\n",
              "    <tr>\n",
              "      <th>71081</th>\n",
              "      <td>4.8</td>\n",
              "    </tr>\n",
              "    <tr>\n",
              "      <th>173901</th>\n",
              "      <td>3.9</td>\n",
              "    </tr>\n",
              "    <tr>\n",
              "      <th>100901</th>\n",
              "      <td>3.8</td>\n",
              "    </tr>\n",
              "    <tr>\n",
              "      <th>111841</th>\n",
              "      <td>3.6</td>\n",
              "    </tr>\n",
              "    <tr>\n",
              "      <th>...</th>\n",
              "      <td>...</td>\n",
              "    </tr>\n",
              "    <tr>\n",
              "      <th>45341</th>\n",
              "      <td>0.0</td>\n",
              "    </tr>\n",
              "    <tr>\n",
              "      <th>45331</th>\n",
              "      <td>0.0</td>\n",
              "    </tr>\n",
              "    <tr>\n",
              "      <th>45271</th>\n",
              "      <td>0.0</td>\n",
              "    </tr>\n",
              "    <tr>\n",
              "      <th>45251</th>\n",
              "      <td>0.0</td>\n",
              "    </tr>\n",
              "    <tr>\n",
              "      <th>199881</th>\n",
              "      <td>0.0</td>\n",
              "    </tr>\n",
              "  </tbody>\n",
              "</table>\n",
              "<p>19359 rows × 1 columns</p>\n",
              "</div>"
            ],
            "text/plain": [
              "           2019-01-12\n",
              "productid            \n",
              "88701             5.4\n",
              "71081             4.8\n",
              "173901            3.9\n",
              "100901            3.8\n",
              "111841            3.6\n",
              "...               ...\n",
              "45341             0.0\n",
              "45331             0.0\n",
              "45271             0.0\n",
              "45251             0.0\n",
              "199881            0.0\n",
              "\n",
              "[19359 rows x 1 columns]"
            ]
          },
          "metadata": {
            "tags": []
          },
          "execution_count": 160
        }
      ]
    }
  ]
}